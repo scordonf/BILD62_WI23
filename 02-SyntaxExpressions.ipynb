{
 "cells": [
  {
   "cell_type": "markdown",
   "id": "6553d7be",
   "metadata": {},
   "source": [
    "# Syntax & Expressions\n",
    "This notebook will introduce you Python syntax & expressions.\n",
    "\n",
    "### At the end of this notebook, you'll be able to:\n",
    "* Use basic <b>arithmetic operations</b> in Python\n",
    "* Assign <b>variables</b> and manipulate them\n",
    "* Interpret basic errors while running Jupyter Notebooks\n",
    "* Identify fundamental rules of Python syntax\n",
    "\n",
    "<hr>"
   ]
  },
  {
   "cell_type": "markdown",
   "id": "d106ffbb",
   "metadata": {},
   "source": [
    "## Part I. Python Expressions & Variables\n",
    "\n",
    "We can perform various arithmetic operations in Python:\n",
    "\n",
    "| Symbol |    Operation   | Usage |\n",
    "|:------:|:--------------:|:-----:|\n",
    "|    +   |    Addition    |  10+2 |\n",
    "|    -   |   Subtraction  |  10-2 |\n",
    "|    *   | Multiplication |  10*2 |\n",
    "|    /   |    Division    |  10/2 |\n",
    "|   **   |    Exponent    | 10**2 |\n",
    "| %      |    Modulo      |  10%2 |\n",
    "\n",
    "Notes:\n",
    "* The default order of operations is the same as in mathematics! (PEMDAS)\n",
    "* If you want a whole number from your division, use // instead"
   ]
  },
  {
   "cell_type": "markdown",
   "id": "827618e0",
   "metadata": {},
   "source": [
    "<div class=\"alert alert-success\"><b>Task:</b> Try each of the operators above. Before using the modulo operator, predict what it will output, and make sure it produces what you expect.</div>"
   ]
  },
  {
   "cell_type": "code",
   "execution_count": null,
   "id": "8119ad9f",
   "metadata": {},
   "outputs": [],
   "source": [
    "# Let's play with numbers weee\n",
    "8*2"
   ]
  },
  {
   "cell_type": "markdown",
   "id": "17e9a354",
   "metadata": {},
   "source": [
    "## Variables\n",
    "Variables enable us to store a value and come back to it later. They are defined with `name = value`. *Assignment is not the same thing as equality,* as in mathematics.\n",
    "\n",
    "### Assigning variables"
   ]
  },
  {
   "cell_type": "markdown",
   "id": "5e1e23a9",
   "metadata": {},
   "source": [
    "<div class=\"alert alert-success\"><b>Task:</b> Create two variables: a & b. Then, use an expression that combines a and b, and assign this to c. In the end, c should be equal to 6.</div>"
   ]
  },
  {
   "cell_type": "code",
   "execution_count": null,
   "id": "b8692c87",
   "metadata": {},
   "outputs": [],
   "source": [
    "# Let's save a few integers and then manipulate them.\n",
    "a = \n",
    "\n"
   ]
  },
  {
   "cell_type": "markdown",
   "id": "8af8e2dd",
   "metadata": {},
   "source": [
    "<b>Note</b>: Most code cells will not give you an output unless you ask for it. You can use `print( )` to output a variable or string. However, cells that *only* contain one variable will print its value.\n",
    "\n",
    "<div class=\"alert alert-success\"><b>Task:</b> Create a cell below and output your variable c.\n",
    "    </div>"
   ]
  },
  {
   "cell_type": "markdown",
   "id": "9ea2e14d",
   "metadata": {},
   "source": [
    "## Part II. Python Syntax\n",
    "\n",
    "### Test #1: Do spaces matter in Python?\n",
    "\n",
    "We can run experiments in coding, just like we can in biology. Here, we'll run a small experiment to test whether or not spaces matter. In the cell above, we showed you an example of using a `print` statement to display a line of text.\n",
    "\n",
    "> **Task**: What do you think will happen if you add a space after `print`, before the parentheses? Test your hypothesis in the blank cell below"
   ]
  },
  {
   "cell_type": "code",
   "execution_count": null,
   "id": "c9cd07eb",
   "metadata": {},
   "outputs": [],
   "source": [
    "# Test print here\n"
   ]
  },
  {
   "cell_type": "markdown",
   "id": "086e797a",
   "metadata": {},
   "source": [
    "### Test #2: Does capitalization matter in Python?\n",
    "> **Task** Similar to above, test whether or not capitalization matters here!"
   ]
  },
  {
   "cell_type": "code",
   "execution_count": null,
   "id": "6bbcb21c",
   "metadata": {},
   "outputs": [],
   "source": [
    "# Test here\n"
   ]
  },
  {
   "cell_type": "markdown",
   "id": "6ae27fee",
   "metadata": {},
   "source": [
    "So, Python cares about capitalization, but not spacing (at least in this example). Usefully, Python is also giving us an error message: `NameError: name 'Print' is not defined`.\n",
    "\n",
    "Error messages are extremely useful hints as to why your code may not be working. This one falls into the category \"Name error\". In Google, search \"NameError + Python\" and use this to define a NameError in the box below."
   ]
  },
  {
   "cell_type": "markdown",
   "id": "110d2745",
   "metadata": {},
   "source": [
    "**NameError**:"
   ]
  },
  {
   "cell_type": "markdown",
   "id": "4e720609",
   "metadata": {},
   "source": [
    "Essentially, Python is telling us that it doesn't know what `Print` is. There's another clue in this notebook telling us that Python is treating `print` and `Print` differently -- can you tell what it is? Write your observations below. "
   ]
  },
  {
   "cell_type": "markdown",
   "id": "60c3c4e5",
   "metadata": {},
   "source": [
    "**Observations**:"
   ]
  },
  {
   "cell_type": "markdown",
   "id": "9859e63d",
   "metadata": {},
   "source": [
    "### Test #3: Do indents or white space matter?\n",
    "\n",
    "One final test! Does Python care about indents (or spaces in front of the code), or white space (blank lines in between lines of code)? Create a Code cell to test these, and then a new Markdown cell to write your observations below."
   ]
  },
  {
   "cell_type": "markdown",
   "id": "699023a5",
   "metadata": {},
   "source": [
    "<hr><font color='blue'></b>After you have completed the tests above, complete the quiz on Canvas with your group.</b></font>"
   ]
  }
 ],
 "metadata": {
  "kernelspec": {
   "display_name": "Python 3",
   "language": "python",
   "name": "python3"
  },
  "language_info": {
   "codemirror_mode": {
    "name": "ipython",
    "version": 3
   },
   "file_extension": ".py",
   "mimetype": "text/x-python",
   "name": "python",
   "nbconvert_exporter": "python",
   "pygments_lexer": "ipython3",
   "version": "3.7.3"
  }
 },
 "nbformat": 4,
 "nbformat_minor": 5
}
